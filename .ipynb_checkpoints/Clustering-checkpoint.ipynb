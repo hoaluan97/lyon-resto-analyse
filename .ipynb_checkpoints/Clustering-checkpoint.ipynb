{
 "cells": [
  {
   "cell_type": "code",
   "execution_count": 1,
   "metadata": {},
   "outputs": [],
   "source": [
    "import pandas as pd\n",
    "import numpy as np\n",
    "import pysubgroup as ps\n",
    "from sklearn.preprocessing import Imputer\n",
    "from sklearn.cluster import KMeans\n",
    "from sklearn.cluster import AgglomerativeClustering\n",
    "from sklearn.metrics import silhouette_score\n",
    "import matplotlib.pyplot as plt\n",
    "from mpl_toolkits.basemap import Basemap\n",
    "from sklearn.preprocessing import StandardScaler\n",
    "from sklearn.decomposition import PCA"
   ]
  },
  {
   "cell_type": "markdown",
   "metadata": {},
   "source": [
    "# 0. Importer le jeu de donnees"
   ]
  },
  {
   "cell_type": "code",
   "execution_count": 2,
   "metadata": {
    "scrolled": true
   },
   "outputs": [
    {
     "data": {
      "text/html": [
       "<div>\n",
       "<style scoped>\n",
       "    .dataframe tbody tr th:only-of-type {\n",
       "        vertical-align: middle;\n",
       "    }\n",
       "\n",
       "    .dataframe tbody tr th {\n",
       "        vertical-align: top;\n",
       "    }\n",
       "\n",
       "    .dataframe thead th {\n",
       "        text-align: right;\n",
       "    }\n",
       "</style>\n",
       "<table border=\"1\" class=\"dataframe\">\n",
       "  <thead>\n",
       "    <tr style=\"text-align: right;\">\n",
       "      <th></th>\n",
       "      <th>restaurant_name</th>\n",
       "      <th>review_number</th>\n",
       "      <th>overallRating</th>\n",
       "      <th>wifi</th>\n",
       "      <th>livraison</th>\n",
       "      <th>lat</th>\n",
       "      <th>lng</th>\n",
       "      <th>district</th>\n",
       "      <th>Française</th>\n",
       "      <th>Européenne</th>\n",
       "      <th>...</th>\n",
       "      <th>Belge</th>\n",
       "      <th>Roumaine</th>\n",
       "      <th>Tunisienne</th>\n",
       "      <th>Suisse</th>\n",
       "      <th>Albanaise</th>\n",
       "      <th>Canadienne</th>\n",
       "      <th>Amérique centrale</th>\n",
       "      <th>Arabe</th>\n",
       "      <th>Vénézuélienne</th>\n",
       "      <th>Chilienne</th>\n",
       "    </tr>\n",
       "  </thead>\n",
       "  <tbody>\n",
       "    <tr>\n",
       "      <td>0</td>\n",
       "      <td>le Neuvième Art</td>\n",
       "      <td>626.0</td>\n",
       "      <td>5.0</td>\n",
       "      <td>1.0</td>\n",
       "      <td>1.0</td>\n",
       "      <td>45.768494</td>\n",
       "      <td>4.856464</td>\n",
       "      <td>69006  Lyon</td>\n",
       "      <td>1</td>\n",
       "      <td>1</td>\n",
       "      <td>...</td>\n",
       "      <td>0</td>\n",
       "      <td>0</td>\n",
       "      <td>0</td>\n",
       "      <td>0</td>\n",
       "      <td>0</td>\n",
       "      <td>0</td>\n",
       "      <td>0</td>\n",
       "      <td>0</td>\n",
       "      <td>0</td>\n",
       "      <td>0</td>\n",
       "    </tr>\n",
       "    <tr>\n",
       "      <td>1</td>\n",
       "      <td>Aromatic</td>\n",
       "      <td>601.0</td>\n",
       "      <td>5.0</td>\n",
       "      <td>1.0</td>\n",
       "      <td>0.0</td>\n",
       "      <td>45.774387</td>\n",
       "      <td>4.830961</td>\n",
       "      <td>69004  Lyon</td>\n",
       "      <td>1</td>\n",
       "      <td>1</td>\n",
       "      <td>...</td>\n",
       "      <td>0</td>\n",
       "      <td>0</td>\n",
       "      <td>0</td>\n",
       "      <td>0</td>\n",
       "      <td>0</td>\n",
       "      <td>0</td>\n",
       "      <td>0</td>\n",
       "      <td>0</td>\n",
       "      <td>0</td>\n",
       "      <td>0</td>\n",
       "    </tr>\n",
       "    <tr>\n",
       "      <td>2</td>\n",
       "      <td>Le Boeuf d'Argent</td>\n",
       "      <td>482.0</td>\n",
       "      <td>4.5</td>\n",
       "      <td>0.0</td>\n",
       "      <td>0.0</td>\n",
       "      <td>45.762661</td>\n",
       "      <td>4.826900</td>\n",
       "      <td>69005  Lyon</td>\n",
       "      <td>1</td>\n",
       "      <td>1</td>\n",
       "      <td>...</td>\n",
       "      <td>0</td>\n",
       "      <td>0</td>\n",
       "      <td>0</td>\n",
       "      <td>0</td>\n",
       "      <td>0</td>\n",
       "      <td>0</td>\n",
       "      <td>0</td>\n",
       "      <td>0</td>\n",
       "      <td>0</td>\n",
       "      <td>0</td>\n",
       "    </tr>\n",
       "    <tr>\n",
       "      <td>3</td>\n",
       "      <td>Le Comptoir des Cousins</td>\n",
       "      <td>205.0</td>\n",
       "      <td>5.0</td>\n",
       "      <td>1.0</td>\n",
       "      <td>0.0</td>\n",
       "      <td>45.768494</td>\n",
       "      <td>4.856464</td>\n",
       "      <td>69006  Lyon</td>\n",
       "      <td>1</td>\n",
       "      <td>1</td>\n",
       "      <td>...</td>\n",
       "      <td>0</td>\n",
       "      <td>0</td>\n",
       "      <td>0</td>\n",
       "      <td>0</td>\n",
       "      <td>0</td>\n",
       "      <td>0</td>\n",
       "      <td>0</td>\n",
       "      <td>0</td>\n",
       "      <td>0</td>\n",
       "      <td>0</td>\n",
       "    </tr>\n",
       "    <tr>\n",
       "      <td>4</td>\n",
       "      <td>L'Archange</td>\n",
       "      <td>946.0</td>\n",
       "      <td>4.5</td>\n",
       "      <td>0.0</td>\n",
       "      <td>0.0</td>\n",
       "      <td>45.768459</td>\n",
       "      <td>4.827991</td>\n",
       "      <td>69001  Lyon</td>\n",
       "      <td>1</td>\n",
       "      <td>1</td>\n",
       "      <td>...</td>\n",
       "      <td>0</td>\n",
       "      <td>0</td>\n",
       "      <td>0</td>\n",
       "      <td>0</td>\n",
       "      <td>0</td>\n",
       "      <td>0</td>\n",
       "      <td>0</td>\n",
       "      <td>0</td>\n",
       "      <td>0</td>\n",
       "      <td>0</td>\n",
       "    </tr>\n",
       "  </tbody>\n",
       "</table>\n",
       "<p>5 rows × 86 columns</p>\n",
       "</div>"
      ],
      "text/plain": [
       "           restaurant_name  review_number  overallRating  wifi  livraison  \\\n",
       "0          le Neuvième Art          626.0            5.0   1.0        1.0   \n",
       "1                 Aromatic          601.0            5.0   1.0        0.0   \n",
       "2        Le Boeuf d'Argent          482.0            4.5   0.0        0.0   \n",
       "3  Le Comptoir des Cousins          205.0            5.0   1.0        0.0   \n",
       "4               L'Archange          946.0            4.5   0.0        0.0   \n",
       "\n",
       "         lat       lng       district  Française  Européenne  ...  Belge  \\\n",
       "0  45.768494  4.856464  69006  Lyon            1           1  ...      0   \n",
       "1  45.774387  4.830961  69004  Lyon            1           1  ...      0   \n",
       "2  45.762661  4.826900  69005  Lyon            1           1  ...      0   \n",
       "3  45.768494  4.856464  69006  Lyon            1           1  ...      0   \n",
       "4  45.768459  4.827991  69001  Lyon            1           1  ...      0   \n",
       "\n",
       "   Roumaine  Tunisienne  Suisse  Albanaise  Canadienne  Amérique centrale  \\\n",
       "0         0           0       0          0           0                  0   \n",
       "1         0           0       0          0           0                  0   \n",
       "2         0           0       0          0           0                  0   \n",
       "3         0           0       0          0           0                  0   \n",
       "4         0           0       0          0           0                  0   \n",
       "\n",
       "   Arabe  Vénézuélienne  Chilienne  \n",
       "0      0              0          0  \n",
       "1      0              0          0  \n",
       "2      0              0          0  \n",
       "3      0              0          0  \n",
       "4      0              0          0  \n",
       "\n",
       "[5 rows x 86 columns]"
      ]
     },
     "execution_count": 2,
     "metadata": {},
     "output_type": "execute_result"
    }
   ],
   "source": [
    "df = pd.read_csv('cleaned_data.csv')\n",
    "df.head(5)"
   ]
  },
  {
   "cell_type": "markdown",
   "metadata": {},
   "source": [
    "# 1. Clustering avec `review_number`, `overallRating`, `wifi` et `livraison`"
   ]
  },
  {
   "cell_type": "markdown",
   "metadata": {},
   "source": [
    "## 1.1. Extraire les colonnes necessaires"
   ]
  },
  {
   "cell_type": "code",
   "execution_count": 3,
   "metadata": {},
   "outputs": [
    {
     "data": {
      "text/plain": [
       "restaurant_name     object\n",
       "review_number      float64\n",
       "overallRating      float64\n",
       "wifi               float64\n",
       "dtype: object"
      ]
     },
     "execution_count": 3,
     "metadata": {},
     "output_type": "execute_result"
    }
   ],
   "source": [
    "df1 = df[df.columns[:4]]\n",
    "df1.dtypes"
   ]
  },
  {
   "cell_type": "markdown",
   "metadata": {},
   "source": [
    "## 1.2. Extraire et normaliser le training set "
   ]
  },
  {
   "cell_type": "code",
   "execution_count": 4,
   "metadata": {},
   "outputs": [],
   "source": [
    "X = df1.values[:, 1:]\n",
    "Xss = StandardScaler().fit_transform(X)"
   ]
  },
  {
   "cell_type": "markdown",
   "metadata": {},
   "source": [
    "## 1.3. Appliquer K-means avec k entre 2 et 20 pour trouver la meilleure valeur k"
   ]
  },
  {
   "cell_type": "code",
   "execution_count": 5,
   "metadata": {},
   "outputs": [
    {
     "name": "stdout",
     "output_type": "stream",
     "text": [
      "k = 2, SSE = 3454.5131\n",
      "k = 3, SSE = 2397.9363\n",
      "k = 4, SSE = 1431.6823\n",
      "k = 5, SSE = 1159.8584\n",
      "k = 6, SSE = 975.4295\n",
      "k = 7, SSE = 825.9201\n",
      "k = 8, SSE = 725.0197\n",
      "k = 9, SSE = 644.3009\n",
      "k = 10, SSE = 564.1973\n",
      "k = 11, SSE = 515.2932\n",
      "k = 12, SSE = 471.9180\n",
      "k = 13, SSE = 421.0376\n",
      "k = 14, SSE = 389.1855\n",
      "k = 15, SSE = 349.8451\n",
      "k = 16, SSE = 317.9933\n",
      "k = 17, SSE = 292.8907\n",
      "k = 18, SSE = 272.4156\n",
      "k = 19, SSE = 255.9120\n"
     ]
    }
   ],
   "source": [
    "scores = []\n",
    "max_k = 20\n",
    "for i in range(2, max_k):\n",
    "    kmeans = KMeans(n_clusters=i, random_state=0).fit(Xss)\n",
    "    sc = kmeans.inertia_\n",
    "    scores.append(sc)\n",
    "    print('k = {0}, SSE = {1:.4f}'.format(i, sc))"
   ]
  },
  {
   "cell_type": "markdown",
   "metadata": {},
   "source": [
    "## 1.4. Appliquer le methode \"coude\" pour choisir la valeur `k`"
   ]
  },
  {
   "cell_type": "code",
   "execution_count": 6,
   "metadata": {},
   "outputs": [
    {
     "data": {
      "text/plain": [
       "([<matplotlib.axis.XTick at 0x7f9c308e7350>,\n",
       "  <matplotlib.axis.XTick at 0x7f9c308e9d10>,\n",
       "  <matplotlib.axis.XTick at 0x7f9c308ceb50>,\n",
       "  <matplotlib.axis.XTick at 0x7f9c2fc4a590>,\n",
       "  <matplotlib.axis.XTick at 0x7f9c2fc4a750>,\n",
       "  <matplotlib.axis.XTick at 0x7f9c2fc56250>,\n",
       "  <matplotlib.axis.XTick at 0x7f9c2fc56350>,\n",
       "  <matplotlib.axis.XTick at 0x7f9c2fc569d0>,\n",
       "  <matplotlib.axis.XTick at 0x7f9c2fbdd050>,\n",
       "  <matplotlib.axis.XTick at 0x7f9c2fbdd690>,\n",
       "  <matplotlib.axis.XTick at 0x7f9c2fbdd850>,\n",
       "  <matplotlib.axis.XTick at 0x7f9c2fc4ab50>,\n",
       "  <matplotlib.axis.XTick at 0x7f9c2fbe4310>,\n",
       "  <matplotlib.axis.XTick at 0x7f9c2fbe4510>,\n",
       "  <matplotlib.axis.XTick at 0x7f9c2fbe4210>,\n",
       "  <matplotlib.axis.XTick at 0x7f9c2fbeb1d0>,\n",
       "  <matplotlib.axis.XTick at 0x7f9c2fbeb810>,\n",
       "  <matplotlib.axis.XTick at 0x7f9c2fbf22d0>],\n",
       " <a list of 18 Text xticklabel objects>)"
      ]
     },
     "execution_count": 6,
     "metadata": {},
     "output_type": "execute_result"
    },
    {
     "data": {
      "image/png": "[encoded data removed]",
      "text/plain": [
       "<Figure size 432x288 with 1 Axes>"
      ]
     },
     "metadata": {
      "needs_background": "light"
     },
     "output_type": "display_data"
    }
   ],
   "source": [
    "plt.plot(range(2, max_k), scores)\n",
    "plt.xticks(range(2, max_k))"
   ]
  },
  {
   "cell_type": "markdown",
   "metadata": {},
   "source": [
    "## 1.5. Appliquer K-means avec k=6"
   ]
  },
  {
   "cell_type": "code",
   "execution_count": 7,
   "metadata": {},
   "outputs": [],
   "source": [
    "k = 6"
   ]
  },
  {
   "cell_type": "code",
   "execution_count": 8,
   "metadata": {
    "scrolled": true
   },
   "outputs": [
    {
     "data": {
      "text/plain": [
       "array([3, 3, 2, ..., 3, 5, 5], dtype=int32)"
      ]
     },
     "execution_count": 8,
     "metadata": {},
     "output_type": "execute_result"
    }
   ],
   "source": [
    "clusters = KMeans(n_clusters=k, random_state=0).fit_predict(Xss)\n",
    "clusters"
   ]
  },
  {
   "cell_type": "markdown",
   "metadata": {},
   "source": [
    "## 1.6. Ajouter la colonne `cluster` contenant le cluster de chaque ligne"
   ]
  },
  {
   "cell_type": "code",
   "execution_count": 9,
   "metadata": {},
   "outputs": [
    {
     "data": {
      "text/html": [
       "<div>\n",
       "<style scoped>\n",
       "    .dataframe tbody tr th:only-of-type {\n",
       "        vertical-align: middle;\n",
       "    }\n",
       "\n",
       "    .dataframe tbody tr th {\n",
       "        vertical-align: top;\n",
       "    }\n",
       "\n",
       "    .dataframe thead th {\n",
       "        text-align: right;\n",
       "    }\n",
       "</style>\n",
       "<table border=\"1\" class=\"dataframe\">\n",
       "  <thead>\n",
       "    <tr style=\"text-align: right;\">\n",
       "      <th></th>\n",
       "      <th>restaurant_name</th>\n",
       "      <th>review_number</th>\n",
       "      <th>overallRating</th>\n",
       "      <th>wifi</th>\n",
       "      <th>livraison</th>\n",
       "      <th>lat</th>\n",
       "      <th>lng</th>\n",
       "      <th>district</th>\n",
       "      <th>Française</th>\n",
       "      <th>Européenne</th>\n",
       "      <th>...</th>\n",
       "      <th>Roumaine</th>\n",
       "      <th>Tunisienne</th>\n",
       "      <th>Suisse</th>\n",
       "      <th>Albanaise</th>\n",
       "      <th>Canadienne</th>\n",
       "      <th>Amérique centrale</th>\n",
       "      <th>Arabe</th>\n",
       "      <th>Vénézuélienne</th>\n",
       "      <th>Chilienne</th>\n",
       "      <th>cluster</th>\n",
       "    </tr>\n",
       "  </thead>\n",
       "  <tbody>\n",
       "    <tr>\n",
       "      <td>0</td>\n",
       "      <td>le Neuvième Art</td>\n",
       "      <td>626.0</td>\n",
       "      <td>5.0</td>\n",
       "      <td>1.0</td>\n",
       "      <td>1.0</td>\n",
       "      <td>45.768494</td>\n",
       "      <td>4.856464</td>\n",
       "      <td>69006  Lyon</td>\n",
       "      <td>1</td>\n",
       "      <td>1</td>\n",
       "      <td>...</td>\n",
       "      <td>0</td>\n",
       "      <td>0</td>\n",
       "      <td>0</td>\n",
       "      <td>0</td>\n",
       "      <td>0</td>\n",
       "      <td>0</td>\n",
       "      <td>0</td>\n",
       "      <td>0</td>\n",
       "      <td>0</td>\n",
       "      <td>3</td>\n",
       "    </tr>\n",
       "    <tr>\n",
       "      <td>1</td>\n",
       "      <td>Aromatic</td>\n",
       "      <td>601.0</td>\n",
       "      <td>5.0</td>\n",
       "      <td>1.0</td>\n",
       "      <td>0.0</td>\n",
       "      <td>45.774387</td>\n",
       "      <td>4.830961</td>\n",
       "      <td>69004  Lyon</td>\n",
       "      <td>1</td>\n",
       "      <td>1</td>\n",
       "      <td>...</td>\n",
       "      <td>0</td>\n",
       "      <td>0</td>\n",
       "      <td>0</td>\n",
       "      <td>0</td>\n",
       "      <td>0</td>\n",
       "      <td>0</td>\n",
       "      <td>0</td>\n",
       "      <td>0</td>\n",
       "      <td>0</td>\n",
       "      <td>3</td>\n",
       "    </tr>\n",
       "    <tr>\n",
       "      <td>2</td>\n",
       "      <td>Le Boeuf d'Argent</td>\n",
       "      <td>482.0</td>\n",
       "      <td>4.5</td>\n",
       "      <td>0.0</td>\n",
       "      <td>0.0</td>\n",
       "      <td>45.762661</td>\n",
       "      <td>4.826900</td>\n",
       "      <td>69005  Lyon</td>\n",
       "      <td>1</td>\n",
       "      <td>1</td>\n",
       "      <td>...</td>\n",
       "      <td>0</td>\n",
       "      <td>0</td>\n",
       "      <td>0</td>\n",
       "      <td>0</td>\n",
       "      <td>0</td>\n",
       "      <td>0</td>\n",
       "      <td>0</td>\n",
       "      <td>0</td>\n",
       "      <td>0</td>\n",
       "      <td>2</td>\n",
       "    </tr>\n",
       "    <tr>\n",
       "      <td>3</td>\n",
       "      <td>Le Comptoir des Cousins</td>\n",
       "      <td>205.0</td>\n",
       "      <td>5.0</td>\n",
       "      <td>1.0</td>\n",
       "      <td>0.0</td>\n",
       "      <td>45.768494</td>\n",
       "      <td>4.856464</td>\n",
       "      <td>69006  Lyon</td>\n",
       "      <td>1</td>\n",
       "      <td>1</td>\n",
       "      <td>...</td>\n",
       "      <td>0</td>\n",
       "      <td>0</td>\n",
       "      <td>0</td>\n",
       "      <td>0</td>\n",
       "      <td>0</td>\n",
       "      <td>0</td>\n",
       "      <td>0</td>\n",
       "      <td>0</td>\n",
       "      <td>0</td>\n",
       "      <td>1</td>\n",
       "    </tr>\n",
       "    <tr>\n",
       "      <td>4</td>\n",
       "      <td>L'Archange</td>\n",
       "      <td>946.0</td>\n",
       "      <td>4.5</td>\n",
       "      <td>0.0</td>\n",
       "      <td>0.0</td>\n",
       "      <td>45.768459</td>\n",
       "      <td>4.827991</td>\n",
       "      <td>69001  Lyon</td>\n",
       "      <td>1</td>\n",
       "      <td>1</td>\n",
       "      <td>...</td>\n",
       "      <td>0</td>\n",
       "      <td>0</td>\n",
       "      <td>0</td>\n",
       "      <td>0</td>\n",
       "      <td>0</td>\n",
       "      <td>0</td>\n",
       "      <td>0</td>\n",
       "      <td>0</td>\n",
       "      <td>0</td>\n",
       "      <td>3</td>\n",
       "    </tr>\n",
       "    <tr>\n",
       "      <td>...</td>\n",
       "      <td>...</td>\n",
       "      <td>...</td>\n",
       "      <td>...</td>\n",
       "      <td>...</td>\n",
       "      <td>...</td>\n",
       "      <td>...</td>\n",
       "      <td>...</td>\n",
       "      <td>...</td>\n",
       "      <td>...</td>\n",
       "      <td>...</td>\n",
       "      <td>...</td>\n",
       "      <td>...</td>\n",
       "      <td>...</td>\n",
       "      <td>...</td>\n",
       "      <td>...</td>\n",
       "      <td>...</td>\n",
       "      <td>...</td>\n",
       "      <td>...</td>\n",
       "      <td>...</td>\n",
       "      <td>...</td>\n",
       "      <td>...</td>\n",
       "    </tr>\n",
       "    <tr>\n",
       "      <td>1742</td>\n",
       "      <td>Le pop rock</td>\n",
       "      <td>49.0</td>\n",
       "      <td>1.5</td>\n",
       "      <td>0.0</td>\n",
       "      <td>0.0</td>\n",
       "      <td>45.750340</td>\n",
       "      <td>4.826126</td>\n",
       "      <td>69002  Lyon</td>\n",
       "      <td>1</td>\n",
       "      <td>0</td>\n",
       "      <td>...</td>\n",
       "      <td>0</td>\n",
       "      <td>0</td>\n",
       "      <td>0</td>\n",
       "      <td>0</td>\n",
       "      <td>0</td>\n",
       "      <td>0</td>\n",
       "      <td>0</td>\n",
       "      <td>0</td>\n",
       "      <td>0</td>\n",
       "      <td>5</td>\n",
       "    </tr>\n",
       "    <tr>\n",
       "      <td>1743</td>\n",
       "      <td>Burger King</td>\n",
       "      <td>45.0</td>\n",
       "      <td>1.5</td>\n",
       "      <td>0.0</td>\n",
       "      <td>0.0</td>\n",
       "      <td>45.712090</td>\n",
       "      <td>4.967150</td>\n",
       "      <td>69800 Saint-Priest  Lyon</td>\n",
       "      <td>0</td>\n",
       "      <td>0</td>\n",
       "      <td>...</td>\n",
       "      <td>0</td>\n",
       "      <td>0</td>\n",
       "      <td>0</td>\n",
       "      <td>0</td>\n",
       "      <td>0</td>\n",
       "      <td>0</td>\n",
       "      <td>0</td>\n",
       "      <td>0</td>\n",
       "      <td>0</td>\n",
       "      <td>5</td>\n",
       "    </tr>\n",
       "    <tr>\n",
       "      <td>1744</td>\n",
       "      <td>Les Chandelles</td>\n",
       "      <td>861.0</td>\n",
       "      <td>2.0</td>\n",
       "      <td>0.0</td>\n",
       "      <td>0.0</td>\n",
       "      <td>45.763374</td>\n",
       "      <td>4.827272</td>\n",
       "      <td>69005  Lyon</td>\n",
       "      <td>1</td>\n",
       "      <td>0</td>\n",
       "      <td>...</td>\n",
       "      <td>0</td>\n",
       "      <td>0</td>\n",
       "      <td>0</td>\n",
       "      <td>0</td>\n",
       "      <td>0</td>\n",
       "      <td>0</td>\n",
       "      <td>0</td>\n",
       "      <td>0</td>\n",
       "      <td>0</td>\n",
       "      <td>3</td>\n",
       "    </tr>\n",
       "    <tr>\n",
       "      <td>1745</td>\n",
       "      <td>La Carretta</td>\n",
       "      <td>47.0</td>\n",
       "      <td>1.5</td>\n",
       "      <td>0.0</td>\n",
       "      <td>0.0</td>\n",
       "      <td>45.765694</td>\n",
       "      <td>4.827927</td>\n",
       "      <td>69005  Lyon</td>\n",
       "      <td>0</td>\n",
       "      <td>0</td>\n",
       "      <td>...</td>\n",
       "      <td>0</td>\n",
       "      <td>0</td>\n",
       "      <td>0</td>\n",
       "      <td>0</td>\n",
       "      <td>0</td>\n",
       "      <td>0</td>\n",
       "      <td>0</td>\n",
       "      <td>0</td>\n",
       "      <td>0</td>\n",
       "      <td>5</td>\n",
       "    </tr>\n",
       "    <tr>\n",
       "      <td>1746</td>\n",
       "      <td>Pizzeria Volcano</td>\n",
       "      <td>12.0</td>\n",
       "      <td>1.0</td>\n",
       "      <td>0.0</td>\n",
       "      <td>0.0</td>\n",
       "      <td>45.750168</td>\n",
       "      <td>4.830167</td>\n",
       "      <td>Lyon</td>\n",
       "      <td>0</td>\n",
       "      <td>0</td>\n",
       "      <td>...</td>\n",
       "      <td>0</td>\n",
       "      <td>0</td>\n",
       "      <td>0</td>\n",
       "      <td>0</td>\n",
       "      <td>0</td>\n",
       "      <td>0</td>\n",
       "      <td>0</td>\n",
       "      <td>0</td>\n",
       "      <td>0</td>\n",
       "      <td>5</td>\n",
       "    </tr>\n",
       "  </tbody>\n",
       "</table>\n",
       "<p>1747 rows × 87 columns</p>\n",
       "</div>"
      ],
      "text/plain": [
       "              restaurant_name  review_number  overallRating  wifi  livraison  \\\n",
       "0             le Neuvième Art          626.0            5.0   1.0        1.0   \n",
       "1                    Aromatic          601.0            5.0   1.0        0.0   \n",
       "2           Le Boeuf d'Argent          482.0            4.5   0.0        0.0   \n",
       "3     Le Comptoir des Cousins          205.0            5.0   1.0        0.0   \n",
       "4                  L'Archange          946.0            4.5   0.0        0.0   \n",
       "...                       ...            ...            ...   ...        ...   \n",
       "1742              Le pop rock           49.0            1.5   0.0        0.0   \n",
       "1743              Burger King           45.0            1.5   0.0        0.0   \n",
       "1744           Les Chandelles          861.0            2.0   0.0        0.0   \n",
       "1745              La Carretta           47.0            1.5   0.0        0.0   \n",
       "1746         Pizzeria Volcano           12.0            1.0   0.0        0.0   \n",
       "\n",
       "            lat       lng                    district  Française  Européenne  \\\n",
       "0     45.768494  4.856464               69006  Lyon            1           1   \n",
       "1     45.774387  4.830961               69004  Lyon            1           1   \n",
       "2     45.762661  4.826900               69005  Lyon            1           1   \n",
       "3     45.768494  4.856464               69006  Lyon            1           1   \n",
       "4     45.768459  4.827991               69001  Lyon            1           1   \n",
       "...         ...       ...                         ...        ...         ...   \n",
       "1742  45.750340  4.826126               69002  Lyon            1           0   \n",
       "1743  45.712090  4.967150  69800 Saint-Priest  Lyon            0           0   \n",
       "1744  45.763374  4.827272               69005  Lyon            1           0   \n",
       "1745  45.765694  4.827927               69005  Lyon            0           0   \n",
       "1746  45.750168  4.830167                      Lyon            0           0   \n",
       "\n",
       "      ...  Roumaine  Tunisienne  Suisse  Albanaise  Canadienne  \\\n",
       "0     ...         0           0       0          0           0   \n",
       "1     ...         0           0       0          0           0   \n",
       "2     ...         0           0       0          0           0   \n",
       "3     ...         0           0       0          0           0   \n",
       "4     ...         0           0       0          0           0   \n",
       "...   ...       ...         ...     ...        ...         ...   \n",
       "1742  ...         0           0       0          0           0   \n",
       "1743  ...         0           0       0          0           0   \n",
       "1744  ...         0           0       0          0           0   \n",
       "1745  ...         0           0       0          0           0   \n",
       "1746  ...         0           0       0          0           0   \n",
       "\n",
       "      Amérique centrale  Arabe  Vénézuélienne  Chilienne  cluster  \n",
       "0                     0      0              0          0        3  \n",
       "1                     0      0              0          0        3  \n",
       "2                     0      0              0          0        2  \n",
       "3                     0      0              0          0        1  \n",
       "4                     0      0              0          0        3  \n",
       "...                 ...    ...            ...        ...      ...  \n",
       "1742                  0      0              0          0        5  \n",
       "1743                  0      0              0          0        5  \n",
       "1744                  0      0              0          0        3  \n",
       "1745                  0      0              0          0        5  \n",
       "1746                  0      0              0          0        5  \n",
       "\n",
       "[1747 rows x 87 columns]"
      ]
     },
     "execution_count": 9,
     "metadata": {},
     "output_type": "execute_result"
    }
   ],
   "source": [
    "df['cluster'] = clusters\n",
    "df"
   ]
  },
  {
   "cell_type": "markdown",
   "metadata": {},
   "source": [
    "## 1.7. Visualiser les clusters"
   ]
  },
  {
   "cell_type": "code",
   "execution_count": 10,
   "metadata": {
    "scrolled": true
   },
   "outputs": [
    {
     "data": {
      "text/plain": [
       "<matplotlib.collections.PathCollection at 0x7f9c2fb0ddd0>"
      ]
     },
     "execution_count": 10,
     "metadata": {},
     "output_type": "execute_result"
    },
    {
     "data": {
      "image/png": "[encoded data removed]",
      "text/plain": [
       "<Figure size 432x288 with 1 Axes>"
      ]
     },
     "metadata": {
      "needs_background": "light"
     },
     "output_type": "display_data"
    }
   ],
   "source": [
    "plt.scatter(df['lat'], df['lng'], c=df['cluster'])"
   ]
  },
  {
   "cell_type": "code",
   "execution_count": 11,
   "metadata": {},
   "outputs": [
    {
     "data": {
      "text/plain": [
       "<matplotlib.collections.PathCollection at 0x7f9c2fa9c3d0>"
      ]
     },
     "execution_count": 11,
     "metadata": {},
     "output_type": "execute_result"
    },
    {
     "data": {
      "image/png": "[encoded data removed]",
      "text/plain": [
       "<Figure size 432x288 with 1 Axes>"
      ]
     },
     "metadata": {
      "needs_background": "light"
     },
     "output_type": "display_data"
    }
   ],
   "source": [
    "plt.scatter(df['overallRating'], df['review_number'], c=df['cluster'])"
   ]
  },
  {
   "cell_type": "markdown",
   "metadata": {},
   "source": [
    "# 2. Clustering par le type des restaurants"
   ]
  },
  {
   "cell_type": "markdown",
   "metadata": {},
   "source": [
    "## 2.1. Extraire les colonnes necessaires"
   ]
  },
  {
   "cell_type": "code",
   "execution_count": 12,
   "metadata": {},
   "outputs": [
    {
     "data": {
      "text/plain": [
       "(1747, 80)"
      ]
     },
     "execution_count": 12,
     "metadata": {},
     "output_type": "execute_result"
    }
   ],
   "source": [
    "# df2 = df.drop(['lat', 'lng', 'district'], axis=1)\n",
    "df2 = df.drop(['overallRating', 'review_number', 'wifi', 'livraison', 'lat', 'lng', 'district'], axis=1)\n",
    "df2.shape"
   ]
  },
  {
   "cell_type": "markdown",
   "metadata": {},
   "source": [
    "## 2.2. Extraire, normaliser le training set et reduire ses dimensions"
   ]
  },
  {
   "cell_type": "code",
   "execution_count": 13,
   "metadata": {},
   "outputs": [],
   "source": [
    "X = df2.values[:, 1:]\n",
    "Xss = StandardScaler().fit_transform(X)\n",
    "Xpca = PCA(n_components=8).fit_transform(Xss)"
   ]
  },
  {
   "cell_type": "code",
   "execution_count": 14,
   "metadata": {},
   "outputs": [
    {
     "data": {
      "text/plain": [
       "(1747, 8)"
      ]
     },
     "execution_count": 14,
     "metadata": {},
     "output_type": "execute_result"
    }
   ],
   "source": [
    "Xpca.shape"
   ]
  },
  {
   "cell_type": "markdown",
   "metadata": {},
   "source": [
    "## 2.3. Trouver la valeur k"
   ]
  },
  {
   "cell_type": "code",
   "execution_count": 15,
   "metadata": {},
   "outputs": [
    {
     "name": "stdout",
     "output_type": "stream",
     "text": [
      "k = 2, SSE = 25588.7994\n",
      "k = 3, SSE = 22264.9606\n",
      "k = 4, SSE = 18961.2025\n",
      "k = 5, SSE = 15908.1880\n",
      "k = 6, SSE = 13238.7719\n",
      "k = 7, SSE = 10782.9895\n",
      "k = 8, SSE = 8366.4620\n",
      "k = 9, SSE = 5873.5290\n",
      "k = 10, SSE = 4729.3085\n",
      "k = 11, SSE = 4002.9145\n",
      "k = 12, SSE = 3174.1064\n",
      "k = 13, SSE = 2853.4136\n",
      "k = 14, SSE = 2632.6691\n",
      "k = 15, SSE = 2366.1706\n",
      "k = 16, SSE = 2160.1597\n",
      "k = 17, SSE = 2035.2407\n",
      "k = 18, SSE = 1901.0780\n",
      "k = 19, SSE = 1672.6818\n"
     ]
    }
   ],
   "source": [
    "scores = []\n",
    "max_k = 20\n",
    "for i in range(2, max_k):\n",
    "    kmeans = KMeans(n_clusters=i, random_state=0).fit(Xpca)\n",
    "    sc = kmeans.inertia_\n",
    "    scores.append(sc)\n",
    "    print('k = {0}, SSE = {1:.4f}'.format(i, sc))"
   ]
  },
  {
   "cell_type": "code",
   "execution_count": 16,
   "metadata": {},
   "outputs": [
    {
     "data": {
      "text/plain": [
       "([<matplotlib.axis.XTick at 0x7f9c2fa53b50>,\n",
       "  <matplotlib.axis.XTick at 0x7f9c2fbbccd0>,\n",
       "  <matplotlib.axis.XTick at 0x7f9c2fa6b7d0>,\n",
       "  <matplotlib.axis.XTick at 0x7f9c3091bd10>,\n",
       "  <matplotlib.axis.XTick at 0x7f9c30912290>,\n",
       "  <matplotlib.axis.XTick at 0x7f9c30912490>,\n",
       "  <matplotlib.axis.XTick at 0x7f9c30912f50>,\n",
       "  <matplotlib.axis.XTick at 0x7f9c3090c0d0>,\n",
       "  <matplotlib.axis.XTick at 0x7f9c3090c710>,\n",
       "  <matplotlib.axis.XTick at 0x7f9c309051d0>,\n",
       "  <matplotlib.axis.XTick at 0x7f9c309053d0>,\n",
       "  <matplotlib.axis.XTick at 0x7f9c309059d0>,\n",
       "  <matplotlib.axis.XTick at 0x7f9c30905310>,\n",
       "  <matplotlib.axis.XTick at 0x7f9c3090cad0>,\n",
       "  <matplotlib.axis.XTick at 0x7f9c2edd2350>,\n",
       "  <matplotlib.axis.XTick at 0x7f9c2edd21d0>,\n",
       "  <matplotlib.axis.XTick at 0x7f9c2edd91d0>,\n",
       "  <matplotlib.axis.XTick at 0x7f9c2edd93d0>],\n",
       " <a list of 18 Text xticklabel objects>)"
      ]
     },
     "execution_count": 16,
     "metadata": {},
     "output_type": "execute_result"
    },
    {
     "data": {
      "image/png": "[encoded data removed]",
      "text/plain": [
       "<Figure size 432x288 with 1 Axes>"
      ]
     },
     "metadata": {
      "needs_background": "light"
     },
     "output_type": "display_data"
    }
   ],
   "source": [
    "plt.plot(range(2, max_k), scores)\n",
    "plt.xticks(range(2, max_k))"
   ]
  },
  {
   "cell_type": "code",
   "execution_count": 17,
   "metadata": {},
   "outputs": [],
   "source": [
    "k = 11"
   ]
  },
  {
   "cell_type": "markdown",
   "metadata": {},
   "source": [
    "## 2.4. Appliquer K-means avec k=11"
   ]
  },
  {
   "cell_type": "code",
   "execution_count": 18,
   "metadata": {},
   "outputs": [
    {
     "data": {
      "text/plain": [
       "array([ 0,  0,  0, ...,  0, 10, 10], dtype=int32)"
      ]
     },
     "execution_count": 18,
     "metadata": {},
     "output_type": "execute_result"
    }
   ],
   "source": [
    "clusters = KMeans(n_clusters=k, random_state=0).fit_predict(Xpca)\n",
    "clusters"
   ]
  },
  {
   "cell_type": "code",
   "execution_count": 19,
   "metadata": {
    "scrolled": false
   },
   "outputs": [
    {
     "data": {
      "text/html": [
       "<div>\n",
       "<style scoped>\n",
       "    .dataframe tbody tr th:only-of-type {\n",
       "        vertical-align: middle;\n",
       "    }\n",
       "\n",
       "    .dataframe tbody tr th {\n",
       "        vertical-align: top;\n",
       "    }\n",
       "\n",
       "    .dataframe thead th {\n",
       "        text-align: right;\n",
       "    }\n",
       "</style>\n",
       "<table border=\"1\" class=\"dataframe\">\n",
       "  <thead>\n",
       "    <tr style=\"text-align: right;\">\n",
       "      <th></th>\n",
       "      <th>restaurant_name</th>\n",
       "      <th>review_number</th>\n",
       "      <th>overallRating</th>\n",
       "      <th>wifi</th>\n",
       "      <th>livraison</th>\n",
       "      <th>lat</th>\n",
       "      <th>lng</th>\n",
       "      <th>district</th>\n",
       "      <th>Française</th>\n",
       "      <th>Européenne</th>\n",
       "      <th>...</th>\n",
       "      <th>Roumaine</th>\n",
       "      <th>Tunisienne</th>\n",
       "      <th>Suisse</th>\n",
       "      <th>Albanaise</th>\n",
       "      <th>Canadienne</th>\n",
       "      <th>Amérique centrale</th>\n",
       "      <th>Arabe</th>\n",
       "      <th>Vénézuélienne</th>\n",
       "      <th>Chilienne</th>\n",
       "      <th>cluster</th>\n",
       "    </tr>\n",
       "  </thead>\n",
       "  <tbody>\n",
       "    <tr>\n",
       "      <td>0</td>\n",
       "      <td>le Neuvième Art</td>\n",
       "      <td>626.0</td>\n",
       "      <td>5.0</td>\n",
       "      <td>1.0</td>\n",
       "      <td>1.0</td>\n",
       "      <td>45.768494</td>\n",
       "      <td>4.856464</td>\n",
       "      <td>69006  Lyon</td>\n",
       "      <td>1</td>\n",
       "      <td>1</td>\n",
       "      <td>...</td>\n",
       "      <td>0</td>\n",
       "      <td>0</td>\n",
       "      <td>0</td>\n",
       "      <td>0</td>\n",
       "      <td>0</td>\n",
       "      <td>0</td>\n",
       "      <td>0</td>\n",
       "      <td>0</td>\n",
       "      <td>0</td>\n",
       "      <td>0</td>\n",
       "    </tr>\n",
       "    <tr>\n",
       "      <td>1</td>\n",
       "      <td>Aromatic</td>\n",
       "      <td>601.0</td>\n",
       "      <td>5.0</td>\n",
       "      <td>1.0</td>\n",
       "      <td>0.0</td>\n",
       "      <td>45.774387</td>\n",
       "      <td>4.830961</td>\n",
       "      <td>69004  Lyon</td>\n",
       "      <td>1</td>\n",
       "      <td>1</td>\n",
       "      <td>...</td>\n",
       "      <td>0</td>\n",
       "      <td>0</td>\n",
       "      <td>0</td>\n",
       "      <td>0</td>\n",
       "      <td>0</td>\n",
       "      <td>0</td>\n",
       "      <td>0</td>\n",
       "      <td>0</td>\n",
       "      <td>0</td>\n",
       "      <td>0</td>\n",
       "    </tr>\n",
       "    <tr>\n",
       "      <td>2</td>\n",
       "      <td>Le Boeuf d'Argent</td>\n",
       "      <td>482.0</td>\n",
       "      <td>4.5</td>\n",
       "      <td>0.0</td>\n",
       "      <td>0.0</td>\n",
       "      <td>45.762661</td>\n",
       "      <td>4.826900</td>\n",
       "      <td>69005  Lyon</td>\n",
       "      <td>1</td>\n",
       "      <td>1</td>\n",
       "      <td>...</td>\n",
       "      <td>0</td>\n",
       "      <td>0</td>\n",
       "      <td>0</td>\n",
       "      <td>0</td>\n",
       "      <td>0</td>\n",
       "      <td>0</td>\n",
       "      <td>0</td>\n",
       "      <td>0</td>\n",
       "      <td>0</td>\n",
       "      <td>0</td>\n",
       "    </tr>\n",
       "    <tr>\n",
       "      <td>3</td>\n",
       "      <td>Le Comptoir des Cousins</td>\n",
       "      <td>205.0</td>\n",
       "      <td>5.0</td>\n",
       "      <td>1.0</td>\n",
       "      <td>0.0</td>\n",
       "      <td>45.768494</td>\n",
       "      <td>4.856464</td>\n",
       "      <td>69006  Lyon</td>\n",
       "      <td>1</td>\n",
       "      <td>1</td>\n",
       "      <td>...</td>\n",
       "      <td>0</td>\n",
       "      <td>0</td>\n",
       "      <td>0</td>\n",
       "      <td>0</td>\n",
       "      <td>0</td>\n",
       "      <td>0</td>\n",
       "      <td>0</td>\n",
       "      <td>0</td>\n",
       "      <td>0</td>\n",
       "      <td>9</td>\n",
       "    </tr>\n",
       "    <tr>\n",
       "      <td>4</td>\n",
       "      <td>L'Archange</td>\n",
       "      <td>946.0</td>\n",
       "      <td>4.5</td>\n",
       "      <td>0.0</td>\n",
       "      <td>0.0</td>\n",
       "      <td>45.768459</td>\n",
       "      <td>4.827991</td>\n",
       "      <td>69001  Lyon</td>\n",
       "      <td>1</td>\n",
       "      <td>1</td>\n",
       "      <td>...</td>\n",
       "      <td>0</td>\n",
       "      <td>0</td>\n",
       "      <td>0</td>\n",
       "      <td>0</td>\n",
       "      <td>0</td>\n",
       "      <td>0</td>\n",
       "      <td>0</td>\n",
       "      <td>0</td>\n",
       "      <td>0</td>\n",
       "      <td>0</td>\n",
       "    </tr>\n",
       "    <tr>\n",
       "      <td>...</td>\n",
       "      <td>...</td>\n",
       "      <td>...</td>\n",
       "      <td>...</td>\n",
       "      <td>...</td>\n",
       "      <td>...</td>\n",
       "      <td>...</td>\n",
       "      <td>...</td>\n",
       "      <td>...</td>\n",
       "      <td>...</td>\n",
       "      <td>...</td>\n",
       "      <td>...</td>\n",
       "      <td>...</td>\n",
       "      <td>...</td>\n",
       "      <td>...</td>\n",
       "      <td>...</td>\n",
       "      <td>...</td>\n",
       "      <td>...</td>\n",
       "      <td>...</td>\n",
       "      <td>...</td>\n",
       "      <td>...</td>\n",
       "      <td>...</td>\n",
       "    </tr>\n",
       "    <tr>\n",
       "      <td>1742</td>\n",
       "      <td>Le pop rock</td>\n",
       "      <td>49.0</td>\n",
       "      <td>1.5</td>\n",
       "      <td>0.0</td>\n",
       "      <td>0.0</td>\n",
       "      <td>45.750340</td>\n",
       "      <td>4.826126</td>\n",
       "      <td>69002  Lyon</td>\n",
       "      <td>1</td>\n",
       "      <td>0</td>\n",
       "      <td>...</td>\n",
       "      <td>0</td>\n",
       "      <td>0</td>\n",
       "      <td>0</td>\n",
       "      <td>0</td>\n",
       "      <td>0</td>\n",
       "      <td>0</td>\n",
       "      <td>0</td>\n",
       "      <td>0</td>\n",
       "      <td>0</td>\n",
       "      <td>0</td>\n",
       "    </tr>\n",
       "    <tr>\n",
       "      <td>1743</td>\n",
       "      <td>Burger King</td>\n",
       "      <td>45.0</td>\n",
       "      <td>1.5</td>\n",
       "      <td>0.0</td>\n",
       "      <td>0.0</td>\n",
       "      <td>45.712090</td>\n",
       "      <td>4.967150</td>\n",
       "      <td>69800 Saint-Priest  Lyon</td>\n",
       "      <td>0</td>\n",
       "      <td>0</td>\n",
       "      <td>...</td>\n",
       "      <td>0</td>\n",
       "      <td>0</td>\n",
       "      <td>0</td>\n",
       "      <td>0</td>\n",
       "      <td>0</td>\n",
       "      <td>0</td>\n",
       "      <td>0</td>\n",
       "      <td>0</td>\n",
       "      <td>0</td>\n",
       "      <td>0</td>\n",
       "    </tr>\n",
       "    <tr>\n",
       "      <td>1744</td>\n",
       "      <td>Les Chandelles</td>\n",
       "      <td>861.0</td>\n",
       "      <td>2.0</td>\n",
       "      <td>0.0</td>\n",
       "      <td>0.0</td>\n",
       "      <td>45.763374</td>\n",
       "      <td>4.827272</td>\n",
       "      <td>69005  Lyon</td>\n",
       "      <td>1</td>\n",
       "      <td>0</td>\n",
       "      <td>...</td>\n",
       "      <td>0</td>\n",
       "      <td>0</td>\n",
       "      <td>0</td>\n",
       "      <td>0</td>\n",
       "      <td>0</td>\n",
       "      <td>0</td>\n",
       "      <td>0</td>\n",
       "      <td>0</td>\n",
       "      <td>0</td>\n",
       "      <td>0</td>\n",
       "    </tr>\n",
       "    <tr>\n",
       "      <td>1745</td>\n",
       "      <td>La Carretta</td>\n",
       "      <td>47.0</td>\n",
       "      <td>1.5</td>\n",
       "      <td>0.0</td>\n",
       "      <td>0.0</td>\n",
       "      <td>45.765694</td>\n",
       "      <td>4.827927</td>\n",
       "      <td>69005  Lyon</td>\n",
       "      <td>0</td>\n",
       "      <td>0</td>\n",
       "      <td>...</td>\n",
       "      <td>0</td>\n",
       "      <td>0</td>\n",
       "      <td>0</td>\n",
       "      <td>0</td>\n",
       "      <td>0</td>\n",
       "      <td>0</td>\n",
       "      <td>0</td>\n",
       "      <td>0</td>\n",
       "      <td>0</td>\n",
       "      <td>10</td>\n",
       "    </tr>\n",
       "    <tr>\n",
       "      <td>1746</td>\n",
       "      <td>Pizzeria Volcano</td>\n",
       "      <td>12.0</td>\n",
       "      <td>1.0</td>\n",
       "      <td>0.0</td>\n",
       "      <td>0.0</td>\n",
       "      <td>45.750168</td>\n",
       "      <td>4.830167</td>\n",
       "      <td>Lyon</td>\n",
       "      <td>0</td>\n",
       "      <td>0</td>\n",
       "      <td>...</td>\n",
       "      <td>0</td>\n",
       "      <td>0</td>\n",
       "      <td>0</td>\n",
       "      <td>0</td>\n",
       "      <td>0</td>\n",
       "      <td>0</td>\n",
       "      <td>0</td>\n",
       "      <td>0</td>\n",
       "      <td>0</td>\n",
       "      <td>10</td>\n",
       "    </tr>\n",
       "  </tbody>\n",
       "</table>\n",
       "<p>1747 rows × 87 columns</p>\n",
       "</div>"
      ],
      "text/plain": [
       "              restaurant_name  review_number  overallRating  wifi  livraison  \\\n",
       "0             le Neuvième Art          626.0            5.0   1.0        1.0   \n",
       "1                    Aromatic          601.0            5.0   1.0        0.0   \n",
       "2           Le Boeuf d'Argent          482.0            4.5   0.0        0.0   \n",
       "3     Le Comptoir des Cousins          205.0            5.0   1.0        0.0   \n",
       "4                  L'Archange          946.0            4.5   0.0        0.0   \n",
       "...                       ...            ...            ...   ...        ...   \n",
       "1742              Le pop rock           49.0            1.5   0.0        0.0   \n",
       "1743              Burger King           45.0            1.5   0.0        0.0   \n",
       "1744           Les Chandelles          861.0            2.0   0.0        0.0   \n",
       "1745              La Carretta           47.0            1.5   0.0        0.0   \n",
       "1746         Pizzeria Volcano           12.0            1.0   0.0        0.0   \n",
       "\n",
       "            lat       lng                    district  Française  Européenne  \\\n",
       "0     45.768494  4.856464               69006  Lyon            1           1   \n",
       "1     45.774387  4.830961               69004  Lyon            1           1   \n",
       "2     45.762661  4.826900               69005  Lyon            1           1   \n",
       "3     45.768494  4.856464               69006  Lyon            1           1   \n",
       "4     45.768459  4.827991               69001  Lyon            1           1   \n",
       "...         ...       ...                         ...        ...         ...   \n",
       "1742  45.750340  4.826126               69002  Lyon            1           0   \n",
       "1743  45.712090  4.967150  69800 Saint-Priest  Lyon            0           0   \n",
       "1744  45.763374  4.827272               69005  Lyon            1           0   \n",
       "1745  45.765694  4.827927               69005  Lyon            0           0   \n",
       "1746  45.750168  4.830167                      Lyon            0           0   \n",
       "\n",
       "      ...  Roumaine  Tunisienne  Suisse  Albanaise  Canadienne  \\\n",
       "0     ...         0           0       0          0           0   \n",
       "1     ...         0           0       0          0           0   \n",
       "2     ...         0           0       0          0           0   \n",
       "3     ...         0           0       0          0           0   \n",
       "4     ...         0           0       0          0           0   \n",
       "...   ...       ...         ...     ...        ...         ...   \n",
       "1742  ...         0           0       0          0           0   \n",
       "1743  ...         0           0       0          0           0   \n",
       "1744  ...         0           0       0          0           0   \n",
       "1745  ...         0           0       0          0           0   \n",
       "1746  ...         0           0       0          0           0   \n",
       "\n",
       "      Amérique centrale  Arabe  Vénézuélienne  Chilienne  cluster  \n",
       "0                     0      0              0          0        0  \n",
       "1                     0      0              0          0        0  \n",
       "2                     0      0              0          0        0  \n",
       "3                     0      0              0          0        9  \n",
       "4                     0      0              0          0        0  \n",
       "...                 ...    ...            ...        ...      ...  \n",
       "1742                  0      0              0          0        0  \n",
       "1743                  0      0              0          0        0  \n",
       "1744                  0      0              0          0        0  \n",
       "1745                  0      0              0          0       10  \n",
       "1746                  0      0              0          0       10  \n",
       "\n",
       "[1747 rows x 87 columns]"
      ]
     },
     "execution_count": 19,
     "metadata": {},
     "output_type": "execute_result"
    }
   ],
   "source": [
    "df['cluster'] = clusters\n",
    "df"
   ]
  },
  {
   "cell_type": "markdown",
   "metadata": {},
   "source": [
    "## 2.5. Visualiser le resultat de clustering"
   ]
  },
  {
   "cell_type": "code",
   "execution_count": 20,
   "metadata": {},
   "outputs": [
    {
     "data": {
      "text/plain": [
       "<matplotlib.collections.PathCollection at 0x7f9c2edaff10>"
      ]
     },
     "execution_count": 20,
     "metadata": {},
     "output_type": "execute_result"
    },
    {
     "data": {
      "image/png": "[encoded data removed]",
      "text/plain": [
       "<Figure size 432x288 with 1 Axes>"
      ]
     },
     "metadata": {
      "needs_background": "light"
     },
     "output_type": "display_data"
    }
   ],
   "source": [
    "plt.scatter(df['lat'], df['lng'], c=df['cluster'].values)"
   ]
  },
  {
   "cell_type": "code",
   "execution_count": 21,
   "metadata": {},
   "outputs": [
    {
     "data": {
      "text/plain": [
       "<matplotlib.collections.PathCollection at 0x7f9c2ed28890>"
      ]
     },
     "execution_count": 21,
     "metadata": {},
     "output_type": "execute_result"
    },
    {
     "data": {
      "image/png": "[encoded data removed]",
      "text/plain": [
       "<Figure size 432x288 with 1 Axes>"
      ]
     },
     "metadata": {
      "needs_background": "light"
     },
     "output_type": "display_data"
    }
   ],
   "source": [
    "plt.scatter(df['overallRating'], df['review_number'], c=df['cluster'])"
   ]
  },
  {
   "cell_type": "markdown",
   "metadata": {},
   "source": [
    "# 3. Clustering par tous les attributs possibles"
   ]
  },
  {
   "cell_type": "markdown",
   "metadata": {},
   "source": [
    "## 3.1. Extraire les colonnes necessaires"
   ]
  },
  {
   "cell_type": "code",
   "execution_count": 22,
   "metadata": {},
   "outputs": [
    {
     "data": {
      "text/plain": [
       "(1747, 84)"
      ]
     },
     "execution_count": 22,
     "metadata": {},
     "output_type": "execute_result"
    }
   ],
   "source": [
    "df3 = df.drop(['lat', 'lng', 'district'], axis=1)\n",
    "df3.shape"
   ]
  },
  {
   "cell_type": "markdown",
   "metadata": {},
   "source": [
    "## 3.2. Extraire, normaliser le training set et reduire ses dimensions"
   ]
  },
  {
   "cell_type": "code",
   "execution_count": 23,
   "metadata": {},
   "outputs": [],
   "source": [
    "X = df3.values[:, 1:]\n",
    "Xss = StandardScaler().fit_transform(X)\n",
    "Xpca = PCA(n_components=10).fit_transform(Xss)"
   ]
  },
  {
   "cell_type": "markdown",
   "metadata": {},
   "source": [
    "## 3.3. Trouver la valeur k"
   ]
  },
  {
   "cell_type": "code",
   "execution_count": 24,
   "metadata": {},
   "outputs": [
    {
     "name": "stdout",
     "output_type": "stream",
     "text": [
      "k = 2, SSE = 32475.4305\n",
      "k = 3, SSE = 29284.8735\n",
      "k = 4, SSE = 26077.9031\n",
      "k = 5, SSE = 22793.2161\n",
      "k = 6, SSE = 20021.6880\n",
      "k = 7, SSE = 16945.9682\n",
      "k = 8, SSE = 13965.1402\n",
      "k = 9, SSE = 11218.7415\n",
      "k = 10, SSE = 8551.7460\n",
      "k = 11, SSE = 6317.2481\n",
      "k = 12, SSE = 5491.3941\n",
      "k = 13, SSE = 5015.4621\n",
      "k = 14, SSE = 4524.7263\n",
      "k = 15, SSE = 4170.8975\n",
      "k = 16, SSE = 3942.5995\n",
      "k = 17, SSE = 3749.5590\n",
      "k = 18, SSE = 3455.5915\n",
      "k = 19, SSE = 3281.2504\n"
     ]
    }
   ],
   "source": [
    "scores = []\n",
    "max_k = 20\n",
    "for i in range(2, max_k):\n",
    "    kmeans = KMeans(n_clusters=i, random_state=0).fit(Xpca)\n",
    "    sc = kmeans.inertia_\n",
    "    scores.append(sc)\n",
    "    print('k = {0}, SSE = {1:.4f}'.format(i, sc))"
   ]
  },
  {
   "cell_type": "code",
   "execution_count": 25,
   "metadata": {},
   "outputs": [
    {
     "data": {
      "text/plain": [
       "([<matplotlib.axis.XTick at 0x7f9c2ece7f90>,\n",
       "  <matplotlib.axis.XTick at 0x7f9c2ed87350>,\n",
       "  <matplotlib.axis.XTick at 0x7f9c2ed87090>,\n",
       "  <matplotlib.axis.XTick at 0x7f9c2eccdc10>,\n",
       "  <matplotlib.axis.XTick at 0x7f9c2e299290>,\n",
       "  <matplotlib.axis.XTick at 0x7f9c2e299390>,\n",
       "  <matplotlib.axis.XTick at 0x7f9c2e299910>,\n",
       "  <matplotlib.axis.XTick at 0x7f9c2e29f290>,\n",
       "  <matplotlib.axis.XTick at 0x7f9c2e299410>,\n",
       "  <matplotlib.axis.XTick at 0x7f9c2e29f790>,\n",
       "  <matplotlib.axis.XTick at 0x7f9c2e29f710>,\n",
       "  <matplotlib.axis.XTick at 0x7f9c2e2a8210>,\n",
       "  <matplotlib.axis.XTick at 0x7f9c2e2a8310>,\n",
       "  <matplotlib.axis.XTick at 0x7f9c2e2a8890>,\n",
       "  <matplotlib.axis.XTick at 0x7f9c2e2ae1d0>,\n",
       "  <matplotlib.axis.XTick at 0x7f9c2e2ae3d0>,\n",
       "  <matplotlib.axis.XTick at 0x7f9c2e2ae950>,\n",
       "  <matplotlib.axis.XTick at 0x7f9c2e2b4290>],\n",
       " <a list of 18 Text xticklabel objects>)"
      ]
     },
     "execution_count": 25,
     "metadata": {},
     "output_type": "execute_result"
    },
    {
     "data": {
      "image/png": "[encoded data removed]",
      "text/plain": [
       "<Figure size 432x288 with 1 Axes>"
      ]
     },
     "metadata": {
      "needs_background": "light"
     },
     "output_type": "display_data"
    }
   ],
   "source": [
    "plt.plot(range(2, max_k), scores)\n",
    "plt.xticks(range(2, max_k))"
   ]
  },
  {
   "cell_type": "markdown",
   "metadata": {},
   "source": [
    "## 3.4. Appliquer K-means avec k=11"
   ]
  },
  {
   "cell_type": "code",
   "execution_count": 26,
   "metadata": {},
   "outputs": [],
   "source": [
    "k = 11"
   ]
  },
  {
   "cell_type": "code",
   "execution_count": 27,
   "metadata": {},
   "outputs": [
    {
     "data": {
      "text/plain": [
       "array([10, 10, 10, ..., 10,  0,  0], dtype=int32)"
      ]
     },
     "execution_count": 27,
     "metadata": {},
     "output_type": "execute_result"
    }
   ],
   "source": [
    "clusters = KMeans(n_clusters=k, random_state=0).fit_predict(Xpca)\n",
    "clusters"
   ]
  },
  {
   "cell_type": "code",
   "execution_count": 28,
   "metadata": {},
   "outputs": [
    {
     "data": {
      "text/html": [
       "<div>\n",
       "<style scoped>\n",
       "    .dataframe tbody tr th:only-of-type {\n",
       "        vertical-align: middle;\n",
       "    }\n",
       "\n",
       "    .dataframe tbody tr th {\n",
       "        vertical-align: top;\n",
       "    }\n",
       "\n",
       "    .dataframe thead th {\n",
       "        text-align: right;\n",
       "    }\n",
       "</style>\n",
       "<table border=\"1\" class=\"dataframe\">\n",
       "  <thead>\n",
       "    <tr style=\"text-align: right;\">\n",
       "      <th></th>\n",
       "      <th>restaurant_name</th>\n",
       "      <th>review_number</th>\n",
       "      <th>overallRating</th>\n",
       "      <th>wifi</th>\n",
       "      <th>livraison</th>\n",
       "      <th>lat</th>\n",
       "      <th>lng</th>\n",
       "      <th>district</th>\n",
       "      <th>Française</th>\n",
       "      <th>Européenne</th>\n",
       "      <th>...</th>\n",
       "      <th>Roumaine</th>\n",
       "      <th>Tunisienne</th>\n",
       "      <th>Suisse</th>\n",
       "      <th>Albanaise</th>\n",
       "      <th>Canadienne</th>\n",
       "      <th>Amérique centrale</th>\n",
       "      <th>Arabe</th>\n",
       "      <th>Vénézuélienne</th>\n",
       "      <th>Chilienne</th>\n",
       "      <th>cluster</th>\n",
       "    </tr>\n",
       "  </thead>\n",
       "  <tbody>\n",
       "    <tr>\n",
       "      <td>0</td>\n",
       "      <td>le Neuvième Art</td>\n",
       "      <td>626.0</td>\n",
       "      <td>5.0</td>\n",
       "      <td>1.0</td>\n",
       "      <td>1.0</td>\n",
       "      <td>45.768494</td>\n",
       "      <td>4.856464</td>\n",
       "      <td>69006  Lyon</td>\n",
       "      <td>1</td>\n",
       "      <td>1</td>\n",
       "      <td>...</td>\n",
       "      <td>0</td>\n",
       "      <td>0</td>\n",
       "      <td>0</td>\n",
       "      <td>0</td>\n",
       "      <td>0</td>\n",
       "      <td>0</td>\n",
       "      <td>0</td>\n",
       "      <td>0</td>\n",
       "      <td>0</td>\n",
       "      <td>10</td>\n",
       "    </tr>\n",
       "    <tr>\n",
       "      <td>1</td>\n",
       "      <td>Aromatic</td>\n",
       "      <td>601.0</td>\n",
       "      <td>5.0</td>\n",
       "      <td>1.0</td>\n",
       "      <td>0.0</td>\n",
       "      <td>45.774387</td>\n",
       "      <td>4.830961</td>\n",
       "      <td>69004  Lyon</td>\n",
       "      <td>1</td>\n",
       "      <td>1</td>\n",
       "      <td>...</td>\n",
       "      <td>0</td>\n",
       "      <td>0</td>\n",
       "      <td>0</td>\n",
       "      <td>0</td>\n",
       "      <td>0</td>\n",
       "      <td>0</td>\n",
       "      <td>0</td>\n",
       "      <td>0</td>\n",
       "      <td>0</td>\n",
       "      <td>10</td>\n",
       "    </tr>\n",
       "    <tr>\n",
       "      <td>2</td>\n",
       "      <td>Le Boeuf d'Argent</td>\n",
       "      <td>482.0</td>\n",
       "      <td>4.5</td>\n",
       "      <td>0.0</td>\n",
       "      <td>0.0</td>\n",
       "      <td>45.762661</td>\n",
       "      <td>4.826900</td>\n",
       "      <td>69005  Lyon</td>\n",
       "      <td>1</td>\n",
       "      <td>1</td>\n",
       "      <td>...</td>\n",
       "      <td>0</td>\n",
       "      <td>0</td>\n",
       "      <td>0</td>\n",
       "      <td>0</td>\n",
       "      <td>0</td>\n",
       "      <td>0</td>\n",
       "      <td>0</td>\n",
       "      <td>0</td>\n",
       "      <td>0</td>\n",
       "      <td>10</td>\n",
       "    </tr>\n",
       "    <tr>\n",
       "      <td>3</td>\n",
       "      <td>Le Comptoir des Cousins</td>\n",
       "      <td>205.0</td>\n",
       "      <td>5.0</td>\n",
       "      <td>1.0</td>\n",
       "      <td>0.0</td>\n",
       "      <td>45.768494</td>\n",
       "      <td>4.856464</td>\n",
       "      <td>69006  Lyon</td>\n",
       "      <td>1</td>\n",
       "      <td>1</td>\n",
       "      <td>...</td>\n",
       "      <td>0</td>\n",
       "      <td>0</td>\n",
       "      <td>0</td>\n",
       "      <td>0</td>\n",
       "      <td>0</td>\n",
       "      <td>0</td>\n",
       "      <td>0</td>\n",
       "      <td>0</td>\n",
       "      <td>0</td>\n",
       "      <td>6</td>\n",
       "    </tr>\n",
       "    <tr>\n",
       "      <td>4</td>\n",
       "      <td>L'Archange</td>\n",
       "      <td>946.0</td>\n",
       "      <td>4.5</td>\n",
       "      <td>0.0</td>\n",
       "      <td>0.0</td>\n",
       "      <td>45.768459</td>\n",
       "      <td>4.827991</td>\n",
       "      <td>69001  Lyon</td>\n",
       "      <td>1</td>\n",
       "      <td>1</td>\n",
       "      <td>...</td>\n",
       "      <td>0</td>\n",
       "      <td>0</td>\n",
       "      <td>0</td>\n",
       "      <td>0</td>\n",
       "      <td>0</td>\n",
       "      <td>0</td>\n",
       "      <td>0</td>\n",
       "      <td>0</td>\n",
       "      <td>0</td>\n",
       "      <td>10</td>\n",
       "    </tr>\n",
       "    <tr>\n",
       "      <td>...</td>\n",
       "      <td>...</td>\n",
       "      <td>...</td>\n",
       "      <td>...</td>\n",
       "      <td>...</td>\n",
       "      <td>...</td>\n",
       "      <td>...</td>\n",
       "      <td>...</td>\n",
       "      <td>...</td>\n",
       "      <td>...</td>\n",
       "      <td>...</td>\n",
       "      <td>...</td>\n",
       "      <td>...</td>\n",
       "      <td>...</td>\n",
       "      <td>...</td>\n",
       "      <td>...</td>\n",
       "      <td>...</td>\n",
       "      <td>...</td>\n",
       "      <td>...</td>\n",
       "      <td>...</td>\n",
       "      <td>...</td>\n",
       "      <td>...</td>\n",
       "    </tr>\n",
       "    <tr>\n",
       "      <td>1742</td>\n",
       "      <td>Le pop rock</td>\n",
       "      <td>49.0</td>\n",
       "      <td>1.5</td>\n",
       "      <td>0.0</td>\n",
       "      <td>0.0</td>\n",
       "      <td>45.750340</td>\n",
       "      <td>4.826126</td>\n",
       "      <td>69002  Lyon</td>\n",
       "      <td>1</td>\n",
       "      <td>0</td>\n",
       "      <td>...</td>\n",
       "      <td>0</td>\n",
       "      <td>0</td>\n",
       "      <td>0</td>\n",
       "      <td>0</td>\n",
       "      <td>0</td>\n",
       "      <td>0</td>\n",
       "      <td>0</td>\n",
       "      <td>0</td>\n",
       "      <td>0</td>\n",
       "      <td>10</td>\n",
       "    </tr>\n",
       "    <tr>\n",
       "      <td>1743</td>\n",
       "      <td>Burger King</td>\n",
       "      <td>45.0</td>\n",
       "      <td>1.5</td>\n",
       "      <td>0.0</td>\n",
       "      <td>0.0</td>\n",
       "      <td>45.712090</td>\n",
       "      <td>4.967150</td>\n",
       "      <td>69800 Saint-Priest  Lyon</td>\n",
       "      <td>0</td>\n",
       "      <td>0</td>\n",
       "      <td>...</td>\n",
       "      <td>0</td>\n",
       "      <td>0</td>\n",
       "      <td>0</td>\n",
       "      <td>0</td>\n",
       "      <td>0</td>\n",
       "      <td>0</td>\n",
       "      <td>0</td>\n",
       "      <td>0</td>\n",
       "      <td>0</td>\n",
       "      <td>10</td>\n",
       "    </tr>\n",
       "    <tr>\n",
       "      <td>1744</td>\n",
       "      <td>Les Chandelles</td>\n",
       "      <td>861.0</td>\n",
       "      <td>2.0</td>\n",
       "      <td>0.0</td>\n",
       "      <td>0.0</td>\n",
       "      <td>45.763374</td>\n",
       "      <td>4.827272</td>\n",
       "      <td>69005  Lyon</td>\n",
       "      <td>1</td>\n",
       "      <td>0</td>\n",
       "      <td>...</td>\n",
       "      <td>0</td>\n",
       "      <td>0</td>\n",
       "      <td>0</td>\n",
       "      <td>0</td>\n",
       "      <td>0</td>\n",
       "      <td>0</td>\n",
       "      <td>0</td>\n",
       "      <td>0</td>\n",
       "      <td>0</td>\n",
       "      <td>10</td>\n",
       "    </tr>\n",
       "    <tr>\n",
       "      <td>1745</td>\n",
       "      <td>La Carretta</td>\n",
       "      <td>47.0</td>\n",
       "      <td>1.5</td>\n",
       "      <td>0.0</td>\n",
       "      <td>0.0</td>\n",
       "      <td>45.765694</td>\n",
       "      <td>4.827927</td>\n",
       "      <td>69005  Lyon</td>\n",
       "      <td>0</td>\n",
       "      <td>0</td>\n",
       "      <td>...</td>\n",
       "      <td>0</td>\n",
       "      <td>0</td>\n",
       "      <td>0</td>\n",
       "      <td>0</td>\n",
       "      <td>0</td>\n",
       "      <td>0</td>\n",
       "      <td>0</td>\n",
       "      <td>0</td>\n",
       "      <td>0</td>\n",
       "      <td>0</td>\n",
       "    </tr>\n",
       "    <tr>\n",
       "      <td>1746</td>\n",
       "      <td>Pizzeria Volcano</td>\n",
       "      <td>12.0</td>\n",
       "      <td>1.0</td>\n",
       "      <td>0.0</td>\n",
       "      <td>0.0</td>\n",
       "      <td>45.750168</td>\n",
       "      <td>4.830167</td>\n",
       "      <td>Lyon</td>\n",
       "      <td>0</td>\n",
       "      <td>0</td>\n",
       "      <td>...</td>\n",
       "      <td>0</td>\n",
       "      <td>0</td>\n",
       "      <td>0</td>\n",
       "      <td>0</td>\n",
       "      <td>0</td>\n",
       "      <td>0</td>\n",
       "      <td>0</td>\n",
       "      <td>0</td>\n",
       "      <td>0</td>\n",
       "      <td>0</td>\n",
       "    </tr>\n",
       "  </tbody>\n",
       "</table>\n",
       "<p>1747 rows × 87 columns</p>\n",
       "</div>"
      ],
      "text/plain": [
       "              restaurant_name  review_number  overallRating  wifi  livraison  \\\n",
       "0             le Neuvième Art          626.0            5.0   1.0        1.0   \n",
       "1                    Aromatic          601.0            5.0   1.0        0.0   \n",
       "2           Le Boeuf d'Argent          482.0            4.5   0.0        0.0   \n",
       "3     Le Comptoir des Cousins          205.0            5.0   1.0        0.0   \n",
       "4                  L'Archange          946.0            4.5   0.0        0.0   \n",
       "...                       ...            ...            ...   ...        ...   \n",
       "1742              Le pop rock           49.0            1.5   0.0        0.0   \n",
       "1743              Burger King           45.0            1.5   0.0        0.0   \n",
       "1744           Les Chandelles          861.0            2.0   0.0        0.0   \n",
       "1745              La Carretta           47.0            1.5   0.0        0.0   \n",
       "1746         Pizzeria Volcano           12.0            1.0   0.0        0.0   \n",
       "\n",
       "            lat       lng                    district  Française  Européenne  \\\n",
       "0     45.768494  4.856464               69006  Lyon            1           1   \n",
       "1     45.774387  4.830961               69004  Lyon            1           1   \n",
       "2     45.762661  4.826900               69005  Lyon            1           1   \n",
       "3     45.768494  4.856464               69006  Lyon            1           1   \n",
       "4     45.768459  4.827991               69001  Lyon            1           1   \n",
       "...         ...       ...                         ...        ...         ...   \n",
       "1742  45.750340  4.826126               69002  Lyon            1           0   \n",
       "1743  45.712090  4.967150  69800 Saint-Priest  Lyon            0           0   \n",
       "1744  45.763374  4.827272               69005  Lyon            1           0   \n",
       "1745  45.765694  4.827927               69005  Lyon            0           0   \n",
       "1746  45.750168  4.830167                      Lyon            0           0   \n",
       "\n",
       "      ...  Roumaine  Tunisienne  Suisse  Albanaise  Canadienne  \\\n",
       "0     ...         0           0       0          0           0   \n",
       "1     ...         0           0       0          0           0   \n",
       "2     ...         0           0       0          0           0   \n",
       "3     ...         0           0       0          0           0   \n",
       "4     ...         0           0       0          0           0   \n",
       "...   ...       ...         ...     ...        ...         ...   \n",
       "1742  ...         0           0       0          0           0   \n",
       "1743  ...         0           0       0          0           0   \n",
       "1744  ...         0           0       0          0           0   \n",
       "1745  ...         0           0       0          0           0   \n",
       "1746  ...         0           0       0          0           0   \n",
       "\n",
       "      Amérique centrale  Arabe  Vénézuélienne  Chilienne  cluster  \n",
       "0                     0      0              0          0       10  \n",
       "1                     0      0              0          0       10  \n",
       "2                     0      0              0          0       10  \n",
       "3                     0      0              0          0        6  \n",
       "4                     0      0              0          0       10  \n",
       "...                 ...    ...            ...        ...      ...  \n",
       "1742                  0      0              0          0       10  \n",
       "1743                  0      0              0          0       10  \n",
       "1744                  0      0              0          0       10  \n",
       "1745                  0      0              0          0        0  \n",
       "1746                  0      0              0          0        0  \n",
       "\n",
       "[1747 rows x 87 columns]"
      ]
     },
     "execution_count": 28,
     "metadata": {},
     "output_type": "execute_result"
    }
   ],
   "source": [
    "df['cluster'] = clusters\n",
    "df"
   ]
  },
  {
   "cell_type": "markdown",
   "metadata": {},
   "source": [
    "## 3.5. Visualiser le resultat de clustering"
   ]
  },
  {
   "cell_type": "code",
   "execution_count": 29,
   "metadata": {},
   "outputs": [
    {
     "data": {
      "text/plain": [
       "<matplotlib.collections.PathCollection at 0x7f9c2e290710>"
      ]
     },
     "execution_count": 29,
     "metadata": {},
     "output_type": "execute_result"
    },
    {
     "data": {
      "image/png": "[encoded data removed]",
      "text/plain": [
       "<Figure size 432x288 with 1 Axes>"
      ]
     },
     "metadata": {
      "needs_background": "light"
     },
     "output_type": "display_data"
    }
   ],
   "source": [
    "plt.scatter(df['lat'], df['lng'], c=df['cluster'].values)"
   ]
  },
  {
   "cell_type": "code",
   "execution_count": 30,
   "metadata": {},
   "outputs": [
    {
     "data": {
      "text/plain": [
       "<matplotlib.collections.PathCollection at 0x7f9c2e20c790>"
      ]
     },
     "execution_count": 30,
     "metadata": {},
     "output_type": "execute_result"
    },
    {
     "data": {
      "image/png": "[encoded data removed]",
      "text/plain": [
       "<Figure size 432x288 with 1 Axes>"
      ]
     },
     "metadata": {
      "needs_background": "light"
     },
     "output_type": "display_data"
    }
   ],
   "source": [
    "plt.scatter(df['overallRating'], df['review_number'], c=df['cluster'])"
   ]
  },
  {
   "cell_type": "code",
   "execution_count": null,
   "metadata": {},
   "outputs": [],
   "source": []
  }
 ],
 "metadata": {
  "kernelspec": {
   "display_name": "Python 3",
   "language": "python",
   "name": "python3"
  },
  "language_info": {
   "codemirror_mode": {
    "name": "ipython",
    "version": 3
   },
   "file_extension": ".py",
   "mimetype": "text/x-python",
   "name": "python",
   "nbconvert_exporter": "python",
   "pygments_lexer": "ipython3",
   "version": "3.7.4"
  }
 },
 "nbformat": 4,
 "nbformat_minor": 2
}
